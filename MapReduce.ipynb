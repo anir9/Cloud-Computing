{
 "cells": [
  {
   "cell_type": "code",
   "execution_count": 1,
   "id": "31ed3d35",
   "metadata": {},
   "outputs": [],
   "source": [
    "class DSU:\n",
    "    def __init__(self,m):\n",
    "        self.count=m\n",
    "        self.parent=[i for i in range(m)]\n",
    "        self.height=[1 for _ in range(m)]\n",
    "\n",
    "    def find_root(self,A):\n",
    "        if self.parent[A]==A:\n",
    "            return A\n",
    "        return self.find_root(self.parent[A])\n",
    "\n",
    "    def Union(self,A,B):\n",
    "        C=self.find_root(A)\n",
    "        D=self.find_root(B)\n",
    "        if C==D:\n",
    "            return\n",
    "        if self.height[C] < self.height[D]:\n",
    "            self.height[D] += self.height[C]\n",
    "            self.parent[C]=D\n",
    "\n",
    "        else:\n",
    "            self.height[C] += self.height[D]\n",
    "            self.parent[D]=C"
   ]
  },
  {
   "cell_type": "code",
   "execution_count": 2,
   "id": "7313d171",
   "metadata": {},
   "outputs": [
    {
     "name": "stdout",
     "output_type": "stream",
     "text": [
      "6.964279890060425\n"
     ]
    }
   ],
   "source": [
    "import pyspark\n",
    "from pyspark import SparkContext\n",
    "from pyspark import SparkConf\n",
    "from operator import add\n",
    "import time\n",
    "start_time = time.time()\n",
    "dsu = DSU(10001)\n",
    "conf = SparkConf().set(\"spark.shuffle.partitions\",4)\n",
    "conf.set(\"spark.default.parallelism\",4)\n",
    "#sc = pyspark.SparkContext(master='local[*]',appName='task2')\n",
    "#sc.sql.conf.set(\"spark.sql.shuffle.partitions\", 4)\n",
    "#sc.conf.set(\"spark.sql.shuffle.partitions\", 4)\n",
    "sc = pyspark.SparkContext('local[*]','task2',conf)\n",
    "f = sc.textFile(\"edgeData.txt\",4)\n",
    "edges = f.flatMap(lambda line : (int(line.split(' ')[0]),int(line.split(' ')[1])))\n",
    "reduce = edges.reduceByKey(lambda a,b: dsu.Union(a,b))\n",
    "end_time = time.time()\n",
    "print(end_time-start_time)\n",
    "sc.stop()"
   ]
  },
  {
   "cell_type": "code",
   "execution_count": null,
   "id": "1470901a",
   "metadata": {},
   "outputs": [],
   "source": [
    "sc.stop()"
   ]
  },
  {
   "cell_type": "code",
   "execution_count": null,
   "id": "5f53f7f2",
   "metadata": {},
   "outputs": [],
   "source": [
    "#master='local[*]',appName='task2',"
   ]
  },
  {
   "cell_type": "code",
   "execution_count": null,
   "id": "eca281ae",
   "metadata": {},
   "outputs": [],
   "source": []
  }
 ],
 "metadata": {
  "kernelspec": {
   "display_name": "Python 3",
   "language": "python",
   "name": "python3"
  },
  "language_info": {
   "codemirror_mode": {
    "name": "ipython",
    "version": 3
   },
   "file_extension": ".py",
   "mimetype": "text/x-python",
   "name": "python",
   "nbconvert_exporter": "python",
   "pygments_lexer": "ipython3",
   "version": "3.8.8"
  }
 },
 "nbformat": 4,
 "nbformat_minor": 5
}
