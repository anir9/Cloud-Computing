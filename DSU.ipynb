{
 "cells": [
  {
   "cell_type": "code",
   "execution_count": 16,
   "id": "f095b7fa",
   "metadata": {},
   "outputs": [],
   "source": [
    "class DSU:\n",
    "    def __init__(self,m):\n",
    "        self.count=m\n",
    "        self.parent=[i for i in range(m)]\n",
    "        self.height=[1 for _ in range(m)]\n",
    "\n",
    "    def find_root(self,A):\n",
    "        if self.parent[A]==A:\n",
    "            return A\n",
    "        return self.find_root(self.parent[A])\n",
    "\n",
    "    def Union(self,A,B):\n",
    "        C=self.find_root(A)\n",
    "        D=self.find_root(B)\n",
    "        if C==D:\n",
    "            return\n",
    "        if self.height[C] < self.height[D]:\n",
    "            self.height[D] += self.height[C]\n",
    "            self.parent[C]=D\n",
    "\n",
    "        else:\n",
    "            self.height[C] += self.height[D]\n",
    "            self.parent[D]=C\n",
    "\n",
    "        "
   ]
  },
  {
   "cell_type": "code",
   "execution_count": 23,
   "id": "fd22dc7d",
   "metadata": {},
   "outputs": [
    {
     "name": "stdout",
     "output_type": "stream",
     "text": [
      "293.74427103996277\n"
     ]
    }
   ],
   "source": [
    "import time\n",
    "start_time = time.time()\n",
    "dsu = DSU(10001)\n",
    "f = open(\"edgeData.txt\", \"r\")\n",
    "for line in f:\n",
    "    args = line.strip().split(\" \");\n",
    "    u = int(args[0])\n",
    "    v = int(args[1])\n",
    "    dsu.Union(u,v)\n",
    "end_time = time.time()\n",
    "print(end_time-start_time)"
   ]
  },
  {
   "cell_type": "code",
   "execution_count": null,
   "id": "04052c93",
   "metadata": {},
   "outputs": [],
   "source": []
  }
 ],
 "metadata": {
  "kernelspec": {
   "display_name": "Python 3",
   "language": "python",
   "name": "python3"
  },
  "language_info": {
   "codemirror_mode": {
    "name": "ipython",
    "version": 3
   },
   "file_extension": ".py",
   "mimetype": "text/x-python",
   "name": "python",
   "nbconvert_exporter": "python",
   "pygments_lexer": "ipython3",
   "version": "3.8.8"
  }
 },
 "nbformat": 4,
 "nbformat_minor": 5
}
