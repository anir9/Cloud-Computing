{
 "cells": [
  {
   "cell_type": "code",
   "execution_count": 19,
   "id": "8c5a7c49",
   "metadata": {},
   "outputs": [],
   "source": [
    "import random\n",
    "file = open(\"edgeData.txt\", \"w\")\n",
    "size = 100000000;\n",
    "for i in range(size):\n",
    "    s = str(random.randint(0,10000)) + \" \" + str(random.randint(0,10000)) + \"\\n\";\n",
    "    file.write(s)\n",
    "\n",
    "file.close()"
   ]
  },
  {
   "cell_type": "code",
   "execution_count": null,
   "id": "66c73d8d",
   "metadata": {},
   "outputs": [],
   "source": []
  },
  {
   "cell_type": "code",
   "execution_count": null,
   "id": "067b4f2f",
   "metadata": {},
   "outputs": [],
   "source": []
  }
 ],
 "metadata": {
  "kernelspec": {
   "display_name": "Python 3",
   "language": "python",
   "name": "python3"
  },
  "language_info": {
   "codemirror_mode": {
    "name": "ipython",
    "version": 3
   },
   "file_extension": ".py",
   "mimetype": "text/x-python",
   "name": "python",
   "nbconvert_exporter": "python",
   "pygments_lexer": "ipython3",
   "version": "3.8.8"
  }
 },
 "nbformat": 4,
 "nbformat_minor": 5
}
